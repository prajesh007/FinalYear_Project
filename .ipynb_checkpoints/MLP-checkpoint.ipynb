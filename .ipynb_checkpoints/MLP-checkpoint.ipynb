{
 "cells": [
  {
   "cell_type": "markdown",
   "id": "7318be4d",
   "metadata": {},
   "source": [
    "# Importing Libraries"
   ]
  },
  {
   "cell_type": "code",
   "execution_count": 1,
   "id": "b375a5b3",
   "metadata": {},
   "outputs": [],
   "source": [
    "import numpy as np\n",
    "#from itertools import tee"
   ]
  },
  {
   "cell_type": "code",
   "execution_count": 2,
   "id": "4172ee76",
   "metadata": {},
   "outputs": [],
   "source": [
    "def softmax(a):\n",
    "    e_pa=np.exp(a)\n",
    "    ans=e_pa/np.sum(e_pa, axis=1, keepdims=True)\n",
    "    return ans"
   ]
  },
  {
   "cell_type": "code",
   "execution_count": 5,
   "id": "5ff573db",
   "metadata": {},
   "outputs": [],
   "source": [
    "class NewNeuralNetwork:\n",
    "    \n",
    "    def __init__(self, input_size, layers, no_of_layers, output_size):\n",
    "        \n",
    "        np.random.seed(0)\n",
    "        \n",
    "        total_layers=[input_size]\n",
    "        total_layers.extend(layers)\n",
    "        total_layers.append(output_size)\n",
    "        layers=total_layers\n",
    "        no_of_layers+=2\n",
    "        \n",
    "        model={}\n",
    "        \n",
    "        # Implementation of MLP\n",
    "        for i in range (no_of_layers-1):\n",
    "            \n",
    "            model[i] = [np.random.randn(layers[i], layers[i+1]), np.zeros((1, layers[i]))]\n",
    "   \n",
    "            #model[np.random.randn(layers[i], layers[i+1])] = np.zeros((1, layers[i]))\n",
    "        \n",
    "        self.model=model\n",
    "        \n",
    "        \n",
    "        def forward(self, x):\n",
    "            \n",
    "            count=0\n",
    "            model_size=len(self.model)\n",
    "            \n",
    "            temp_model=self.model\n",
    "            \n",
    "            for key in self.model:\n",
    "                \n",
    "                if count==0:\n",
    "                    \n",
    "                    z=np.dot(x, temp_model[key][0]) + temp_model[key][1]\n",
    "                    a=np.tanh(z)\n",
    "                \n",
    "                elif count and count != model_size:\n",
    "                  \n",
    "                    z=np.dot(a, temp_model[key][0]) + temp_model[key][1]\n",
    "                    a=np.tanh(z)\n",
    "                    \n",
    "                else:\n",
    "                    z=np.dot(a, temp_model[key][0]) + temp_model[key][1]\n",
    "                    y_ = softmax(z)\n",
    "                    \n",
    "                count+=1\n",
    "                    \n",
    "                    \n",
    "            return y_                 "
   ]
  },
  {
   "cell_type": "code",
   "execution_count": 6,
   "id": "c2969140",
   "metadata": {},
   "outputs": [
    {
     "name": "stdout",
     "output_type": "stream",
     "text": [
      "2\n",
      "4\n",
      "enter the number of Neurons in each layer: \n",
      "1\n",
      "2\n",
      "3\n",
      "4\n",
      "2\n"
     ]
    },
    {
     "ename": "AttributeError",
     "evalue": "'NewNeuralNetwork' object has no attribute 'line_print'",
     "output_type": "error",
     "traceback": [
      "\u001b[1;31m---------------------------------------------------------------------------\u001b[0m",
      "\u001b[1;31mAttributeError\u001b[0m                            Traceback (most recent call last)",
      "Cell \u001b[1;32mIn[6], line 11\u001b[0m\n\u001b[0;32m      9\u001b[0m output_size\u001b[38;5;241m=\u001b[39m\u001b[38;5;28mint\u001b[39m(\u001b[38;5;28minput\u001b[39m())\n\u001b[0;32m     10\u001b[0m n\u001b[38;5;241m=\u001b[39mNewNeuralNetwork(input_size,layers, no_of_layer, output_size)\n\u001b[1;32m---> 11\u001b[0m ans\u001b[38;5;241m=\u001b[39m\u001b[43mn\u001b[49m\u001b[38;5;241;43m.\u001b[39;49m\u001b[43mline_print\u001b[49m()\n\u001b[0;32m     12\u001b[0m \u001b[38;5;28mprint\u001b[39m(\u001b[38;5;124m'\u001b[39m\u001b[38;5;124moutput: \u001b[39m\u001b[38;5;130;01m\\n\u001b[39;00m\u001b[38;5;124m'\u001b[39m, ans)\n",
      "\u001b[1;31mAttributeError\u001b[0m: 'NewNeuralNetwork' object has no attribute 'line_print'"
     ]
    }
   ],
   "source": [
    "# Model Parameters\n",
    "input_size=int(input()) # No of Features = No. of node in I/P Layer\n",
    "no_of_layer=int(input())\n",
    "layers=[] # Number of Neurons in each Layer\n",
    "print('enter the number of Neurons in each layer: ')\n",
    "for i in range (no_of_layer):\n",
    "    temp=int(input())\n",
    "    layers.append(temp)\n",
    "output_size=int(input())\n",
    "n=NewNeuralNetwork(input_size,layers, no_of_layer, output_size)\n",
    "ans=n.forward(4)\n",
    "print('output: \\n', ans)"
   ]
  },
  {
   "cell_type": "code",
   "execution_count": 40,
   "id": "f9257ea3",
   "metadata": {},
   "outputs": [
    {
     "name": "stdout",
     "output_type": "stream",
     "text": [
      "2\n"
     ]
    }
   ],
   "source": [
    "model={}\n",
    "model[0]=[4,2]\n",
    "for key in model:\n",
    "    print(model[key][1])"
   ]
  },
  {
   "cell_type": "code",
   "execution_count": 47,
   "id": "5a35fc39",
   "metadata": {},
   "outputs": [
    {
     "data": {
      "text/plain": [
       "\"class NeuralNetwork:\\n    \\n    def __init__(self, input_size, layers,no_of_layer, output_size):\\n        np.random.seed(0)\\n        \\n        model={}\\n        count=0\\n        model[count]=np.random.randn(input_size, layers[0])\\n        model[count+1]=np.zeros((1, layers[0]))\\n        count+=2\\n        for i in range (1,no_of_layer):\\n            model[count]=np.random.randn(layers[i-1], layers[i])\\n            model[count+1]=np.zeros((1, layers[i]))\\n            count+=2\\n\\n            #model['W2']=np.random.randn(layers[0], layers[1])\\n            #model['b2']=np.zeros((1, layers[1]))\\n\\n\\n            #model['W3']=np.random.randn(layers[1], output_size)\\n            #model['b3']=np.zeros((1, output_size))\\n        \\n        model[count]=np.random.randn(layers[no_of_layer-1],output_size)\\n        model[count+1]=np.zeros((1,output_size))\\n        self.model=model\\n        \\n        \\n    def forward(self, x):\\n\\n        #W1,W2,W3=self.model['W1'],self.model['W2'],self.model['W3']\\n        #b1,b2,b3=self.model['b1'],self.model['b2'],self.model['b3']\\n        #print(self.model)\\n        count=0\\n        z=np.dot(x,self.model[count])+self.model[count+1]\\n        a=np.tanh(z)\\n        count+=2\\n        #print(a)\\n        z=np.dot(a,self.model[count])+self.model[count+1]\\n        a=np.tanh(z)\\n        #print(a)\\n        count+=2\\n        #for i in range (no_of_layer-1):\\n         #   print(i)\\n         #   z=np.dot(a,self.model[count])+self.model[count+1]\\n          #  a=np.tanh(z)\\n          #  count+=2\\n            \\n            \\n        #z1=np.dot(x,W1)+b1\\n        #a1=np.tanh(z1)\\n\\n        #z2=np.dot(a1, W2)+b2\\n        #a2=np.tanh(z2)\\n\\n        z=np.dot(a, self.model[count])+self.model[count+1]\\n        y_=softmax(z)\\n        \\n        return y_\""
      ]
     },
     "execution_count": 47,
     "metadata": {},
     "output_type": "execute_result"
    }
   ],
   "source": [
    "\"\"\"class NeuralNetwork:\n",
    "    \n",
    "    def __init__(self, input_size, layers,no_of_layer, output_size):\n",
    "        np.random.seed(0)\n",
    "        \n",
    "        model={}\n",
    "        count=0\n",
    "        model[count]=np.random.randn(input_size, layers[0])\n",
    "        model[count+1]=np.zeros((1, layers[0]))\n",
    "        count+=2\n",
    "        for i in range (1,no_of_layer):\n",
    "            model[count]=np.random.randn(layers[i-1], layers[i])\n",
    "            model[count+1]=np.zeros((1, layers[i]))\n",
    "            count+=2\n",
    "\n",
    "            #model['W2']=np.random.randn(layers[0], layers[1])\n",
    "            #model['b2']=np.zeros((1, layers[1]))\n",
    "\n",
    "\n",
    "            #model['W3']=np.random.randn(layers[1], output_size)\n",
    "            #model['b3']=np.zeros((1, output_size))\n",
    "        \n",
    "        model[count]=np.random.randn(layers[no_of_layer-1],output_size)\n",
    "        model[count+1]=np.zeros((1,output_size))\n",
    "        self.model=model\n",
    "        \n",
    "        \n",
    "    def forward(self, x):\n",
    "\n",
    "        #W1,W2,W3=self.model['W1'],self.model['W2'],self.model['W3']\n",
    "        #b1,b2,b3=self.model['b1'],self.model['b2'],self.model['b3']\n",
    "        #print(self.model)\n",
    "        count=0\n",
    "        z=np.dot(x,self.model[count])+self.model[count+1]\n",
    "        a=np.tanh(z)\n",
    "        count+=2\n",
    "        #print(a)\n",
    "        z=np.dot(a,self.model[count])+self.model[count+1]\n",
    "        a=np.tanh(z)\n",
    "        #print(a)\n",
    "        count+=2\n",
    "        #for i in range (no_of_layer-1):\n",
    "         #   print(i)\n",
    "         #   z=np.dot(a,self.model[count])+self.model[count+1]\n",
    "          #  a=np.tanh(z)\n",
    "          #  count+=2\n",
    "            \n",
    "            \n",
    "        #z1=np.dot(x,W1)+b1\n",
    "        #a1=np.tanh(z1)\n",
    "\n",
    "        #z2=np.dot(a1, W2)+b2\n",
    "        #a2=np.tanh(z2)\n",
    "\n",
    "        z=np.dot(a, self.model[count])+self.model[count+1]\n",
    "        y_=softmax(z)\n",
    "        \n",
    "        return y_\"\"\""
   ]
  },
  {
   "cell_type": "code",
   "execution_count": 48,
   "id": "294574d0",
   "metadata": {},
   "outputs": [
    {
     "data": {
      "text/plain": [
       "'test_list = [0, 1, 2, 3, 4, 5]\\n\\n# printing original list\\nprint (test_list)\\n\\n# using list comprehension\\n# to perform pair iteration in list\\nres = [((i), (i + 1) % len(test_list)) for i in range(len(test_list))]\\n\\n# printing result\\nfor i in res:\\n    print(i[0,1])\\n'"
      ]
     },
     "execution_count": 48,
     "metadata": {},
     "output_type": "execute_result"
    }
   ],
   "source": [
    "# initializing list\n",
    "\"\"\"test_list = [0, 1, 2, 3, 4, 5]\n",
    "\n",
    "# printing original list\n",
    "print (test_list)\n",
    "\n",
    "# using list comprehension\n",
    "# to perform pair iteration in list\n",
    "res = [((i), (i + 1) % len(test_list)) for i in range(len(test_list))]\n",
    "\n",
    "# printing result\n",
    "for i in res:\n",
    "    print(i[0,1])\n",
    "\"\"\""
   ]
  },
  {
   "cell_type": "markdown",
   "id": "fc8d08d6",
   "metadata": {},
   "source": [
    "# Softmax Function"
   ]
  }
 ],
 "metadata": {
  "kernelspec": {
   "display_name": "Python 3 (ipykernel)",
   "language": "python",
   "name": "python3"
  },
  "language_info": {
   "codemirror_mode": {
    "name": "ipython",
    "version": 3
   },
   "file_extension": ".py",
   "mimetype": "text/x-python",
   "name": "python",
   "nbconvert_exporter": "python",
   "pygments_lexer": "ipython3",
   "version": "3.9.16"
  }
 },
 "nbformat": 4,
 "nbformat_minor": 5
}
